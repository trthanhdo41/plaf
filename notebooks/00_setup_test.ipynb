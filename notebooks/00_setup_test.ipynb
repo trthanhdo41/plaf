{
  "cells": [
    {
      "cell_type": "markdown",
      "metadata": {},
      "source": [
        "# PLAF Environment Setup Test\n",
        "\n",
        "Notebook này để verify environment đã setup đúng chưa trước khi bắt đầu code.\n",
        "\n",
        "## Checklist:\n",
        "- [ ] Python packages installed\n",
        "- [ ] OULAD dataset accessible\n",
        "- [ ] Config files loaded\n",
        "- [ ] Basic functionality test\n"
      ]
    },
    {
      "cell_type": "code",
      "execution_count": null,
      "metadata": {},
      "outputs": [],
      "source": [
        "# Import core libraries\n",
        "import pandas as pd\n",
        "import numpy as np\n",
        "import matplotlib.pyplot as plt\n",
        "import seaborn as sns\n",
        "import warnings\n",
        "warnings.filterwarnings('ignore')\n",
        "\n",
        "print(\"Core libraries imported successfully\")\n",
        "print(f\"Pandas version: {pd.__version__}\")\n",
        "print(f\"NumPy version: {np.__version__}\")\n"
      ]
    },
    {
      "cell_type": "code",
      "execution_count": null,
      "metadata": {},
      "outputs": [],
      "source": [
        "# Test ML libraries\n",
        "try:\n",
        "    import sklearn\n",
        "    from sklearn.model_selection import train_test_split\n",
        "    print(\"Scikit-learn imported\")\n",
        "except ImportError as e:\n",
        "    print(f\"Scikit-learn error: {e}\")\n",
        "\n",
        "try:\n",
        "    import catboost\n",
        "    print(\"CatBoost imported\")\n",
        "except ImportError as e:\n",
        "    print(f\"CatBoost error: {e}\")\n",
        "\n",
        "try:\n",
        "    import xgboost as xgb\n",
        "    print(\"XGBoost imported\")\n",
        "except ImportError as e:\n",
        "    print(f\"XGBoost error: {e}\")\n"
      ]
    },
    {
      "cell_type": "code",
      "execution_count": null,
      "metadata": {},
      "outputs": [],
      "source": [
        "# Test XAI libraries\n",
        "try:\n",
        "    import shap\n",
        "    print(\"SHAP imported\")\n",
        "except ImportError as e:\n",
        "    print(f\"SHAP error: {e}\")\n",
        "\n",
        "try:\n",
        "    import dice_ml\n",
        "    print(\"DiCE imported\")\n",
        "except ImportError as e:\n",
        "    print(f\"DiCE error: {e}\")\n"
      ]
    }
  ],
  "metadata": {
    "language_info": {
      "name": "python"
    }
  },
  "nbformat": 4,
  "nbformat_minor": 2
}
