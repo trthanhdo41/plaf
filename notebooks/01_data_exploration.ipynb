{
  "cells": [
    {
      "cell_type": "markdown",
      "metadata": {},
      "source": [
        "# OULAD Dataset Exploration\n",
        "\n",
        "Notebook này để explore OULAD dataset structure và understand data trước khi build pipeline.\n",
        "\n",
        "## Goals:\n",
        "- Understand dataset structure\n",
        "- Check data quality (missing values, outliers)\n",
        "- Explore target variable distribution\n",
        "- Identify key features for modeling\n"
      ]
    },
    {
      "cell_type": "code",
      "execution_count": null,
      "metadata": {},
      "outputs": [],
      "source": [
        "# Import libraries\n",
        "import pandas as pd\n",
        "import numpy as np\n",
        "import matplotlib.pyplot as plt\n",
        "import seaborn as sns\n",
        "import warnings\n",
        "warnings.filterwarnings('ignore')\n",
        "\n",
        "# Import our custom loader\n",
        "import sys\n",
        "sys.path.append('..')\n",
        "from src.data.loader import load_oulad_data\n",
        "\n",
        "print(\"Libraries imported successfully\")\n"
      ]
    },
    {
      "cell_type": "code",
      "execution_count": null,
      "metadata": {},
      "outputs": [],
      "source": [
        "# Load OULAD data\n",
        "print(\"Loading OULAD dataset...\")\n",
        "data, info = load_oulad_data()\n",
        "\n",
        "print(f\"\\nLoaded {len(data)} files:\")\n",
        "for name, df in data.items():\n",
        "    print(f\"- {name}: {df.shape}\")\n"
      ]
    },
    {
      "cell_type": "code",
      "execution_count": null,
      "metadata": {},
      "outputs": [],
      "source": [
        "# Explore main dataset - studentInfo\n",
        "student_info = data['studentInfo']\n",
        "print(\"StudentInfo dataset overview:\")\n",
        "print(f\"Shape: {student_info.shape}\")\n",
        "print(f\"\\nColumns: {list(student_info.columns)}\")\n",
        "print(f\"\\nFirst few rows:\")\n",
        "student_info.head()\n"
      ]
    },
    {
      "cell_type": "code",
      "execution_count": null,
      "metadata": {},
      "outputs": [],
      "source": [
        "# Check target variable distribution\n",
        "print(\"Final result distribution:\")\n",
        "print(student_info['final_result'].value_counts())\n",
        "print(f\"\\nPercentage:\")\n",
        "print(student_info['final_result'].value_counts(normalize=True) * 100)\n",
        "\n",
        "# Create binary target\n",
        "student_info['is_at_risk'] = student_info['final_result'].apply(\n",
        "    lambda x: 1 if x in ['Fail', 'Withdrawn'] else 0\n",
        ")\n",
        "\n",
        "print(f\"\\nBinary target (is_at_risk):\")\n",
        "print(student_info['is_at_risk'].value_counts())\n",
        "print(f\"At-risk rate: {student_info['is_at_risk'].mean():.2%}\")\n"
      ]
    }
  ],
  "metadata": {
    "language_info": {
      "name": "python"
    }
  },
  "nbformat": 4,
  "nbformat_minor": 2
}
